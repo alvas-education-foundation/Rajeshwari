{
  "nbformat": 4,
  "nbformat_minor": 0,
  "metadata": {
    "colab": {
      "name": "Untitled",
      "provenance": [],
      "authorship_tag": "ABX9TyO1zpH2uBz68UenIP4O7K5W",
      "include_colab_link": true
    },
    "kernelspec": {
      "name": "python3",
      "display_name": "Python 3"
    }
  },
  "cells": [
    {
      "cell_type": "markdown",
      "metadata": {
        "id": "view-in-github",
        "colab_type": "text"
      },
      "source": [
        "<a href=\"https://colab.research.google.com/github/alvas-education-foundation/Rajeshwari-gadagi/blob/master/Day_1_session_1_exercise.ipynb\" target=\"_parent\"><img src=\"https://colab.research.google.com/assets/colab-badge.svg\" alt=\"Open In Colab\"/></a>"
      ]
    },
    {
      "cell_type": "code",
      "metadata": {
        "id": "hMQKHsN3ZMfB",
        "colab_type": "code",
        "colab": {
          "base_uri": "https://localhost:8080/",
          "height": 105
        },
        "outputId": "791e90fd-f2b5-4b46-def9-9eaf33ae1ee6"
      },
      "source": [
        "#1.    Find the compound interest for the given p,n,r  (formula : p(1+n*r/100)n )\n",
        "def compound_interest(principle, rate, time):\n",
        "   CI = principle * (pow((1 + rate / 100), time))\n",
        "   print(\"Compound interest : \", CI)\n",
        "# main\n",
        "p = int(input(\"Enter the Principle : \"))\n",
        "r = float(input(\"Enter the Rate of Interest : \"))\n",
        "t = int(input(\"Enter the Time : \"))\n",
        "compound_interest(p, r, t)"
      ],
      "execution_count": 1,
      "outputs": [
        {
          "output_type": "stream",
          "text": [
            "Enter the Principle : 1000\n",
            "Enter the Rate of Interest : 10\n",
            "Enter the Time : 12\n",
            "Compound interest :  3138.428376721003\n"
          ],
          "name": "stdout"
        }
      ]
    },
    {
      "cell_type": "code",
      "metadata": {
        "id": "GL1iYIYoZbHw",
        "colab_type": "code",
        "colab": {
          "base_uri": "https://localhost:8080/",
          "height": 51
        },
        "outputId": "afa8d88b-e3ea-4c8b-e53e-7845d1796e23"
      },
      "source": [
        " #2.    Convert centegrade to farenheit  ( f= 9/5*c+32)\n",
        "celsius = float(input(\"Enter temperature in celsius: \"))\n",
        "fahrenheit = (celsius * 9/5) + 32\n",
        "print('%.2f Celsius is: %0.2f Fahrenheit' %(celsius, fahrenheit))"
      ],
      "execution_count": 2,
      "outputs": [
        {
          "output_type": "stream",
          "text": [
            "Enter temperature in celsius: 27\n",
            "27.00 Celsius is: 80.60 Fahrenheit\n"
          ],
          "name": "stdout"
        }
      ]
    },
    {
      "cell_type": "code",
      "metadata": {
        "id": "EacmcjToZwl6",
        "colab_type": "code",
        "colab": {
          "base_uri": "https://localhost:8080/",
          "height": 68
        },
        "outputId": "60279f5c-d65d-400c-f488-c3f7eafb3b2a"
      },
      "source": [
        " #3.    Find the greater of two nos \n",
        "a = int(input('Enter first number: '))\n",
        "b = int(input('Enter second number: '))\n",
        "if a>b:\n",
        "    print('{0} is greater than {1}'.format(a,b))\n",
        "elif b>a:\n",
        "    print(\"{0} is greater than {1}\".format(b,a))\n",
        "else:\n",
        "  print(\"Both the numbers are equal\")"
      ],
      "execution_count": 3,
      "outputs": [
        {
          "output_type": "stream",
          "text": [
            "Enter first number: 20\n",
            "Enter second number: 40\n",
            "40 is greater than 20\n"
          ],
          "name": "stdout"
        }
      ]
    },
    {
      "cell_type": "code",
      "metadata": {
        "id": "-2XX8Lr1a92J",
        "colab_type": "code",
        "colab": {
          "base_uri": "https://localhost:8080/",
          "height": 122
        },
        "outputId": "cc8d5229-c20a-41c8-b285-3809057a40c7"
      },
      "source": [
        " #4.    Find the greatest of four nos ( using ‘and’ operator)   using function.\n",
        "n1 = input(\"Enter the first number \")\n",
        "n2 = input(\"Enter the second number \")\n",
        "n3 = input(\"Enter the third number \")\n",
        "n4 = input(\"Enter the fourth number \")\n",
        "  \n",
        "mx = (n1 if (n1 > n2 and n1 > n2 and n1 > n4)  \n",
        "         else (n2 if (n2 > n3 and n3 > n4)  \n",
        "         else (n3 if n3 > n4 else n4))) \n",
        "  \n",
        "# str() function is used to convert  \n",
        "# integer to string, it is required  \n",
        "# as we are concatenating integers \n",
        "# with string \n",
        "print(\"Largest number among \" + str(n1) + \", \" + \n",
        "            str(n2) + \", \" + str(n3) + \" and \" + \n",
        "            str(n4) + \" is \" + str(mx))"
      ],
      "execution_count": 7,
      "outputs": [
        {
          "output_type": "stream",
          "text": [
            "Enter the first number 1\n",
            "Enter the second number 2\n",
            "Enter the third number 3\n",
            "Enter the fourth number 4\n",
            "Largest number among 1, 2, 3 and 4 is 4\n"
          ],
          "name": "stdout"
        }
      ]
    },
    {
      "cell_type": "code",
      "metadata": {
        "id": "G_riXj79bG-j",
        "colab_type": "code",
        "colab": {
          "base_uri": "https://localhost:8080/",
          "height": 1000
        },
        "outputId": "757f66bb-cc30-466c-cae0-d44f47df8308"
      },
      "source": [
        " #5.    Write a  menu program to perform the operations ( ODDorEven, Factorial, ODDNoUptoN, PrimeUptoN ) using functions for two nos with  menu choice\n",
        "loop = 1 # 1 means loop; anything else means don't loop.\n",
        "choice = 0 # This variable holds the user's choice in the menu\n",
        " \n",
        "def oddoreven():\n",
        "    num = int(input(\"Enter a number: \"))\n",
        "    if (num % 2) == 0:\n",
        "      print(\"{0} is Even\".format(num))\n",
        "    else:\n",
        "      print(\"{0} is Odd\".format(num)) \n",
        " \n",
        " \n",
        "def factorial():\n",
        "  num = int(input(\"enter the number\"))\n",
        "  factorial = 1\n",
        "  if num < 0:\n",
        "    print(\"Sorry, factorial does not exist for negative numbers\")\n",
        "  elif num == 0:\n",
        "    print(\"The factorial of 0 is 1\")\n",
        "  else:\n",
        "    for i in range(1,num + 1):\n",
        "      factorial = factorial*i\n",
        "      print(\"The factorial of\",num,\"is\",factorial)\n",
        " \n",
        " \n",
        "def oddtilln():\n",
        "    maximum = int(input(\" Please Enter any Maximum Value : \"))\n",
        "    for number in range(1, maximum + 1):\n",
        "     if(number % 2 != 0):\n",
        "        print(\"{0}\".format(number))\n",
        " \n",
        " \n",
        "def primetilln():\n",
        "    upto = int(input(\"Find prime numbers upto : \"))\n",
        "    print(\"\\nAll prime numbers upto\", upto, \"are : \")\n",
        "    for num in range(2, upto + 1):\n",
        "      i = 2\n",
        "      for i in range(2, num):\n",
        "        if(num % i == 0):\n",
        "            i = num\n",
        "            break;\n",
        "    if(i != num):\n",
        "        print(num, end=\" \")\n",
        " \n",
        "while loop == 1:\n",
        "    # Print what options you have\n",
        "    print (\"Welcome to math program\")\n",
        "    print (\"your options are:\")\n",
        "    print (\" \")\n",
        "    print(\"1) ODD or Even\")\n",
        "    print(\"2) Factorial\")\n",
        "    print(\"3) Odd number upto n \")\n",
        "    print(\"4) Prime number upto n \")\n",
        "    print(\"5) Quit the program\")\n",
        "    print(\" \")\n",
        "    try:\n",
        "        choice = int(input(\"Choose your option: \"))\n",
        "    except:\n",
        "        print('please enter a valid number for option')\n",
        "    print(\" \")\n",
        "    print(\" \")\n",
        "    if choice == 1:\n",
        "        oddoreven()\n",
        " \n",
        "    elif choice == 2:\n",
        "        factorial() \n",
        "  \n",
        "    elif choice == 3:\n",
        "        oddtilln()\n",
        " \n",
        "    elif choice == 4:\n",
        "         primetilln()\n",
        "        \n",
        "    elif choice == 5:\n",
        "        loop = 0\n",
        "     \n",
        "    else:\n",
        "        print(\"please choice a valid option from 1 to 5\")\n",
        "        choice=0\n",
        "print (\"Thank-you for using math program\")"
      ],
      "execution_count": 8,
      "outputs": [
        {
          "output_type": "stream",
          "text": [
            "Welcome to math program\n",
            "your options are:\n",
            " \n",
            "1) ODD or Even\n",
            "2) Factorial\n",
            "3) Odd number upto n \n",
            "4) Prime number upto n \n",
            "5) Quit the program\n",
            " \n",
            "Choose your option: 1\n",
            " \n",
            " \n",
            "Enter a number: 30\n",
            "30 is Even\n",
            "Welcome to math program\n",
            "your options are:\n",
            " \n",
            "1) ODD or Even\n",
            "2) Factorial\n",
            "3) Odd number upto n \n",
            "4) Prime number upto n \n",
            "5) Quit the program\n",
            " \n",
            "Choose your option: 2\n",
            " \n",
            " \n",
            "enter the number5\n",
            "The factorial of 5 is 1\n",
            "The factorial of 5 is 2\n",
            "The factorial of 5 is 6\n",
            "The factorial of 5 is 24\n",
            "The factorial of 5 is 120\n",
            "Welcome to math program\n",
            "your options are:\n",
            " \n",
            "1) ODD or Even\n",
            "2) Factorial\n",
            "3) Odd number upto n \n",
            "4) Prime number upto n \n",
            "5) Quit the program\n",
            " \n",
            "Choose your option: 3\n",
            " \n",
            " \n",
            " Please Enter any Maximum Value : 25\n",
            "1\n",
            "3\n",
            "5\n",
            "7\n",
            "9\n",
            "11\n",
            "13\n",
            "15\n",
            "17\n",
            "19\n",
            "21\n",
            "23\n",
            "25\n",
            "Welcome to math program\n",
            "your options are:\n",
            " \n",
            "1) ODD or Even\n",
            "2) Factorial\n",
            "3) Odd number upto n \n",
            "4) Prime number upto n \n",
            "5) Quit the program\n",
            " \n",
            "Choose your option: 4\n",
            " \n",
            " \n",
            "Find prime numbers upto : 12\n",
            "\n",
            "All prime numbers upto 12 are : \n",
            "Welcome to math program\n",
            "your options are:\n",
            " \n",
            "1) ODD or Even\n",
            "2) Factorial\n",
            "3) Odd number upto n \n",
            "4) Prime number upto n \n",
            "5) Quit the program\n",
            " \n",
            "Choose your option: 5\n",
            " \n",
            " \n",
            "Thank-you for using math program\n"
          ],
          "name": "stdout"
        }
      ]
    }
  ]
}