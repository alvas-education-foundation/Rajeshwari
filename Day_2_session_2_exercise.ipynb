{
  "nbformat": 4,
  "nbformat_minor": 0,
  "metadata": {
    "colab": {
      "name": "Untitled2.ipynb",
      "provenance": [],
      "authorship_tag": "ABX9TyNUhgL63MrhsZO3ew4tdCFa",
      "include_colab_link": true
    },
    "kernelspec": {
      "name": "python3",
      "display_name": "Python 3"
    }
  },
  "cells": [
    {
      "cell_type": "markdown",
      "metadata": {
        "id": "view-in-github",
        "colab_type": "text"
      },
      "source": [
        "<a href=\"https://colab.research.google.com/github/alvas-education-foundation/Rajeshwari-gadagi/blob/master/Day_2_session_2_exercise.ipynb\" target=\"_parent\"><img src=\"https://colab.research.google.com/assets/colab-badge.svg\" alt=\"Open In Colab\"/></a>"
      ]
    },
    {
      "cell_type": "code",
      "metadata": {
        "id": "nkuwa440hyCp",
        "colab_type": "code",
        "colab": {
          "base_uri": "https://localhost:8080/",
          "height": 156
        },
        "outputId": "ee9cfcd9-c986-4417-b251-0c1d904508c1"
      },
      "source": [
        " n=int(input(\"Enter no of records: \"))\n",
        "d={}\n",
        "import operator\n",
        "for i in range(1,n+1):\n",
        "  name= input(\"Enter name %d: \"%(i))\n",
        "  mark=int(input(\"Enter mark %d: \"%(i)))\n",
        "  d[name]=mark\n",
        "print(\"input: \",d)\n",
        "sorted_a= sorted(d.items(), key=operator.itemgetter(1),reverse=True)\n",
        "print(\"output: \",sorted_a)"
      ],
      "execution_count": 1,
      "outputs": [
        {
          "output_type": "stream",
          "text": [
            "Enter no of records: 2\n",
            "Enter name 1: Mansa\n",
            "Enter mark 1: 95\n",
            "Enter name 2: Priya\n",
            "Enter mark 2: 96\n",
            "input:  {'Mansa': 95, 'Priya': 96}\n",
            "output:  [('Priya', 96), ('Mansa', 95)]\n"
          ],
          "name": "stdout"
        }
      ]
    },
    {
      "cell_type": "code",
      "metadata": {
        "id": "kNPXtx27iWae",
        "colab_type": "code",
        "colab": {
          "base_uri": "https://localhost:8080/",
          "height": 156
        },
        "outputId": "cad7cacb-14d9-4bcf-b6bf-f891ff3b0d85"
      },
      "source": [
        " n=int(input(\"Enter no of records: \"))\n",
        "d={}\n",
        "import operator\n",
        "for i in range(1,n+1):\n",
        "  name= input(\"Enter name %d: \"%(i))\n",
        "  s=float(input(\"Enter salary %d: \"%(i)))\n",
        "  d[name]=s\n",
        "print(\"input: \",d)\n",
        "sorted_a= sorted(d.items(), key=operator.itemgetter(0))\n",
        "print(\"output: \",sorted_a)"
      ],
      "execution_count": 2,
      "outputs": [
        {
          "output_type": "stream",
          "text": [
            "Enter no of records: 2\n",
            "Enter name 1: Priya\n",
            "Enter salary 1: 55000\n",
            "Enter name 2: Mansa\n",
            "Enter salary 2: 60000\n",
            "input:  {'Priya': 55000.0, 'Mansa': 60000.0}\n",
            "output:  [('Mansa', 60000.0), ('Priya', 55000.0)]\n"
          ],
          "name": "stdout"
        }
      ]
    },
    {
      "cell_type": "code",
      "metadata": {
        "id": "Kng-BeHdiqD9",
        "colab_type": "code",
        "colab": {
          "base_uri": "https://localhost:8080/",
          "height": 225
        },
        "outputId": "e99b2e61-884d-4b87-eb09-5aa7d2eb9890"
      },
      "source": [
        " n=int(input(\"Enter no of records: \"))\n",
        "d={}\n",
        "import operator\n",
        "for i in range(1,n+1):\n",
        "  name= input(\"Enter name %d: \"%(i))\n",
        "  s=float(input(\"Enter salary %d: \"%(i)))\n",
        "  d[name]=s\n",
        "print(\"input: \",d)\n",
        "sorted_a= sorted(d.items(), key=operator.itemgetter(1))\n",
        "print(\"output: \",sorted_a)\n",
        "v = d.values()\n",
        "print(\"sum: \",sum(v))\n",
        "print(\"max: \",max(v))\n",
        "print(\"min: \",min(v))\n",
        "print(\"avg: \",(sum(v)/n))"
      ],
      "execution_count": 3,
      "outputs": [
        {
          "output_type": "stream",
          "text": [
            "Enter no of records: 2\n",
            "Enter name 1: Mansa\n",
            "Enter salary 1: 60000\n",
            "Enter name 2: Priya\n",
            "Enter salary 2: 55000\n",
            "input:  {'Mansa': 60000.0, 'Priya': 55000.0}\n",
            "output:  [('Priya', 55000.0), ('Mansa', 60000.0)]\n",
            "sum:  115000.0\n",
            "max:  60000.0\n",
            "min:  55000.0\n",
            "avg:  57500.0\n"
          ],
          "name": "stdout"
        }
      ]
    },
    {
      "cell_type": "code",
      "metadata": {
        "id": "V7rA0WERi4m_",
        "colab_type": "code",
        "colab": {
          "base_uri": "https://localhost:8080/",
          "height": 139
        },
        "outputId": "b50936d4-498b-4127-b246-e76595b2105c"
      },
      "source": [
        " n=int(input(\"Enter no of records: \"))\n",
        "d={}\n",
        "import operator\n",
        "for i in range(1,n+1):\n",
        "  name= input(\"Enter name %d: \"%(i))\n",
        "  s=int(input(\"Enter salary %d: \"%(i)))\n",
        "  d[name]=s\n",
        "print(\"input: \",d)\n",
        "for key,value in d.items():\n",
        "    if value>=2000 and value<=4000:\n",
        "         print(d[key],\"=\",key)"
      ],
      "execution_count": 4,
      "outputs": [
        {
          "output_type": "stream",
          "text": [
            "Enter no of records: 2\n",
            "Enter name 1: Mansa\n",
            "Enter salary 1: 60000\n",
            "Enter name 2: Priya\n",
            "Enter salary 2: 55000\n",
            "input:  {'Mansa': 60000, 'Priya': 55000}\n"
          ],
          "name": "stdout"
        }
      ]
    },
    {
      "cell_type": "code",
      "metadata": {
        "id": "PUDGwQ1RjFcs",
        "colab_type": "code",
        "colab": {
          "base_uri": "https://localhost:8080/",
          "height": 68
        },
        "outputId": "5a809421-af14-4124-9ec0-7719cca11f30"
      },
      "source": [
        " def convert_to_words(num):  \n",
        "    l = len(num);    \n",
        "    if (l == 0): \n",
        "        print(\"empty string\"); \n",
        "        return; \n",
        "  \n",
        "    if (l > 4): \n",
        "        print(\"Length more than 4 is not supported\"); \n",
        "        return;   \n",
        "    single_digits = [\"zero\", \"one\", \"two\", \"three\",  \n",
        "                     \"four\", \"five\", \"six\", \"seven\",  \n",
        "                     \"eight\", \"nine\"];  \n",
        "    two_digits = [\"\", \"ten\", \"eleven\", \"twelve\",  \n",
        "                  \"thirteen\", \"fourteen\", \"fifteen\",  \n",
        "                  \"sixteen\", \"seventeen\", \"eighteen\", \n",
        "                  \"nineteen\"];  \n",
        "    tens_multiple = [\"\", \"\", \"twenty\", \"thirty\", \"forty\", \n",
        "                     \"fifty\", \"sixty\", \"seventy\", \"eighty\",  \n",
        "                     \"ninety\"]; \n",
        "    tens_power = [\"hundred\", \"thousand\"];   \n",
        "    print(num, \":\", end = \" \");   \n",
        "    if (l == 1):  \n",
        "        print(single_digits[ord(num[0]) - '0']); \n",
        "        return;  \n",
        "    x = 0; \n",
        "    while (x < len(num)):    \n",
        "        if (l >= 3): \n",
        "            if (ord(num[x]) - 48 != 0): \n",
        "                print(single_digits[ord(num[x]) - 48],  \n",
        "                                           end = \" \"); \n",
        "                print(tens_power[l - 3], end = \" \");  \n",
        "                  \n",
        "            l -= 1; \n",
        "        else:   \n",
        "            if (ord(num[x]) - 48 == 1):  \n",
        "                sum = (ord(num[x]) - 48 + \n",
        "                       ord(num[x]) - 48); \n",
        "                print(two_digits[sum]); \n",
        "                return;   \n",
        "            elif (ord(num[x]) - 48 == 2 and \n",
        "                  ord(num[x + 1]) - 48 == 0): \n",
        "                print(\"twenty\"); \n",
        "                return;  \n",
        "            else: \n",
        "                i = ord(num[x]) - 48; \n",
        "                if(i > 0): \n",
        "                    print(tens_multiple[i], end = \" \"); \n",
        "                else: \n",
        "                    print(\"\", end = \"\"); \n",
        "                x += 1; \n",
        "                if(ord(num[x]) - 48 != 0): \n",
        "                    print(single_digits[ord(num[x]) - 48]); \n",
        "        x += 1;  \n",
        "convert_to_words(\"923\"); \n",
        "convert_to_words(\"523\"); \n",
        "convert_to_words(\"898\");"
      ],
      "execution_count": 5,
      "outputs": [
        {
          "output_type": "stream",
          "text": [
            "923 : nine hundred twenty three\n",
            "523 : five hundred twenty three\n",
            "898 : eight hundred ninety eight\n"
          ],
          "name": "stdout"
        }
      ]
    }
  ]
}